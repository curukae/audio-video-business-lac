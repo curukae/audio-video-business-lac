{
 "cells": [
  {
   "cell_type": "code",
   "execution_count": 5,
   "id": "5fac736f",
   "metadata": {},
   "outputs": [],
   "source": [
    "from moviepy.editor import *\n",
    "import moviepy\n",
    "import os\n",
    "import moviepy.editor \n",
    "import tempfile\n",
    "import glob\n",
    "from moviepy.video.io.ffmpeg_tools import ffmpeg_extract_subclip"
   ]
  },
  {
   "cell_type": "code",
   "execution_count": 16,
   "id": "ccebf7d2",
   "metadata": {},
   "outputs": [],
   "source": [
    "# HOW TO --> ffmpeg_extract_subclip(\"full.mp4\", start_seconds, end_seconds, targetname=\"cut.mp4\")\n"
   ]
  },
  {
   "cell_type": "code",
   "execution_count": 13,
   "id": "872b489c",
   "metadata": {},
   "outputs": [
    {
     "name": "stdout",
     "output_type": "stream",
     "text": [
      "Moviepy - Running:\n",
      ">>> \"+ \" \".join(cmd)\n",
      "Moviepy - Command successful\n"
     ]
    }
   ],
   "source": [
    "#1993 Elaine Boosler\n",
    "ffmpeg_extract_subclip(\"C:\\\\Users\\\\Egemen\\\\Desktop\\\\C-Span Videos\\\\video\\\\1993.mp4\", 140, 2026, targetname=\"cuts\\ 1993 Elaine Boosler.mp4\")"
   ]
  },
  {
   "cell_type": "code",
   "execution_count": 14,
   "id": "73412f7f",
   "metadata": {},
   "outputs": [
    {
     "name": "stdout",
     "output_type": "stream",
     "text": [
      "Moviepy - Running:\n",
      ">>> \"+ \" \".join(cmd)\n",
      "Moviepy - Command successful\n"
     ]
    }
   ],
   "source": [
    "#1995 Conan O'Brien\n",
    "ffmpeg_extract_subclip(\"C:\\\\Users\\\\Egemen\\\\Desktop\\\\C-Span Videos\\\\video\\\\1995.mp4\", 45, 1770, targetname=\"cuts\\ 1995 Conan O'Brien.mp4\")"
   ]
  },
  {
   "cell_type": "code",
   "execution_count": 15,
   "id": "374a3b2a",
   "metadata": {},
   "outputs": [
    {
     "name": "stdout",
     "output_type": "stream",
     "text": [
      "Moviepy - Running:\n",
      ">>> \"+ \" \".join(cmd)\n",
      "Moviepy - Command successful\n"
     ]
    }
   ],
   "source": [
    "#1997 Jon Stewart\n",
    "ffmpeg_extract_subclip(\"C:\\\\Users\\\\Egemen\\\\Desktop\\\\C-Span Videos\\\\video\\\\1997.mp4\", 2604, 3574, targetname=\"cuts\\ 1997 Jon Stewart.mp4\")"
   ]
  },
  {
   "cell_type": "code",
   "execution_count": 17,
   "id": "5b8e0d06",
   "metadata": {},
   "outputs": [
    {
     "name": "stdout",
     "output_type": "stream",
     "text": [
      "Moviepy - Running:\n",
      ">>> \"+ \" \".join(cmd)\n",
      "Moviepy - Command successful\n"
     ]
    }
   ],
   "source": [
    "#1998 Ray Romano\n",
    "ffmpeg_extract_subclip(\"C:\\\\Users\\\\Egemen\\\\Desktop\\\\C-Span Videos\\\\video\\\\1998.mp4\", 2958, 3923, targetname=\"cuts\\ 1998 Ray Romano.mp4\")"
   ]
  },
  {
   "cell_type": "code",
   "execution_count": 21,
   "id": "d385806a",
   "metadata": {},
   "outputs": [
    {
     "name": "stdout",
     "output_type": "stream",
     "text": [
      "Moviepy - Running:\n",
      ">>> \"+ \" \".join(cmd)\n",
      "Moviepy - Command successful\n"
     ]
    }
   ],
   "source": [
    "#2000 Jay Leno\n",
    "ffmpeg_extract_subclip(\"C:\\\\Users\\\\Egemen\\\\Desktop\\\\C-Span Videos\\\\video\\\\20001.mp4\", 2133, 3748, targetname=\"cuts\\ 2000 Jay Leno.mp4\")"
   ]
  },
  {
   "cell_type": "code",
   "execution_count": 24,
   "id": "e927b5de",
   "metadata": {},
   "outputs": [
    {
     "name": "stdout",
     "output_type": "stream",
     "text": [
      "Moviepy - Running:\n",
      ">>> \"+ \" \".join(cmd)\n",
      "Moviepy - Command successful\n"
     ]
    }
   ],
   "source": [
    "#2001 Darrell Hammond\n",
    "ffmpeg_extract_subclip(\"C:\\\\Users\\\\Egemen\\\\Desktop\\\\C-Span Videos\\\\video\\\\2001.mp4\", 2719, 4411, targetname=\"cuts\\ 2001 Darrell Hammond.mp4\")"
   ]
  },
  {
   "cell_type": "code",
   "execution_count": 25,
   "id": "4aedd11d",
   "metadata": {},
   "outputs": [
    {
     "name": "stdout",
     "output_type": "stream",
     "text": [
      "Moviepy - Running:\n",
      ">>> \"+ \" \".join(cmd)\n",
      "Moviepy - Command successful\n"
     ]
    }
   ],
   "source": [
    "ffmpeg_extract_subclip(\"C:\\\\Users\\\\Egemen\\\\Desktop\\\\C-Span Videos\\\\video\\\\2002.mp4\", 2603, 3754, targetname=\"cuts\\ 2002 Drew Carey.mp4\")"
   ]
  },
  {
   "cell_type": "code",
   "execution_count": 26,
   "id": "5d37ed77",
   "metadata": {},
   "outputs": [
    {
     "name": "stdout",
     "output_type": "stream",
     "text": [
      "Moviepy - Running:\n",
      ">>> \"+ \" \".join(cmd)\n",
      "Moviepy - Command successful\n"
     ]
    }
   ],
   "source": [
    "ffmpeg_extract_subclip(\"C:\\\\Users\\\\Egemen\\\\Desktop\\\\C-Span Videos\\\\video\\\\2007.mp4\", 140, 1951, targetname=\"cuts\\ 2007 Rich Little.mp4\")"
   ]
  },
  {
   "cell_type": "code",
   "execution_count": 30,
   "id": "bd84aad9",
   "metadata": {},
   "outputs": [
    {
     "name": "stdout",
     "output_type": "stream",
     "text": [
      "Moviepy - Running:\n",
      ">>> \"+ \" \".join(cmd)\n",
      "Moviepy - Command successful\n"
     ]
    }
   ],
   "source": [
    "ffmpeg_extract_subclip(\"C:\\\\Users\\\\Egemen\\\\Desktop\\\\C-Span Videos\\\\video\\\\2005 Cedric.mp4\", 1716, 2620, targetname=\"cuts\\ 2005 Cedric.mp4\")"
   ]
  },
  {
   "cell_type": "code",
   "execution_count": 32,
   "id": "02ff8cfb",
   "metadata": {},
   "outputs": [
    {
     "name": "stdout",
     "output_type": "stream",
     "text": [
      "Moviepy - Running:\n",
      ">>> \"+ \" \".join(cmd)\n",
      "Moviepy - Command successful\n"
     ]
    }
   ],
   "source": [
    "ffmpeg_extract_subclip(\"C:\\\\Users\\\\Egemen\\\\Desktop\\\\C-Span Videos\\\\video\\\\2004.mp4\", 2158, 3437, targetname=\"cuts\\ 2004 Jay Leno.mp4\")"
   ]
  },
  {
   "cell_type": "code",
   "execution_count": 33,
   "id": "1a205da7",
   "metadata": {},
   "outputs": [
    {
     "name": "stdout",
     "output_type": "stream",
     "text": [
      "Moviepy - Running:\n",
      ">>> \"+ \" \".join(cmd)\n",
      "Moviepy - Command successful\n"
     ]
    }
   ],
   "source": [
    "ffmpeg_extract_subclip(\"C:\\\\Users\\\\Egemen\\\\Desktop\\\\C-Span Videos\\\\video\\\\2008.mp4\", 68, 1363, targetname=\"cuts\\ 2008 Craig Ferguson.mp4\")"
   ]
  }
 ],
 "metadata": {
  "kernelspec": {
   "display_name": "Python 3 (ipykernel)",
   "language": "python",
   "name": "python3"
  },
  "language_info": {
   "codemirror_mode": {
    "name": "ipython",
    "version": 3
   },
   "file_extension": ".py",
   "mimetype": "text/x-python",
   "name": "python",
   "nbconvert_exporter": "python",
   "pygments_lexer": "ipython3",
   "version": "3.9.7"
  }
 },
 "nbformat": 4,
 "nbformat_minor": 5
}
