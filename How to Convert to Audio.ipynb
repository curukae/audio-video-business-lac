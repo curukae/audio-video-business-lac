{
 "cells": [
  {
   "cell_type": "code",
   "execution_count": 2,
   "id": "7619327b",
   "metadata": {},
   "outputs": [
    {
     "name": "stderr",
     "output_type": "stream",
     "text": [
      "C:\\Users\\Egemen\\mambaforge\\lib\\site-packages\\numpy\\_distributor_init.py:30: UserWarning: loaded more than 1 DLL from .libs:\n",
      "C:\\Users\\Egemen\\mambaforge\\lib\\site-packages\\numpy\\.libs\\libopenblas.EL2C6PLE4ZYW3ECEVIV3OXXGRN2NRFM2.gfortran-win_amd64.dll\n",
      "C:\\Users\\Egemen\\mambaforge\\lib\\site-packages\\numpy\\.libs\\libopenblas.XWYDX2IKJW2NMTWSFYNGFUWKQU3LYTCZ.gfortran-win_amd64.dll\n",
      "  warnings.warn(\"loaded more than 1 DLL from .libs:\"\n"
     ]
    }
   ],
   "source": [
    "from moviepy.editor import *\n",
    "import moviepy\n",
    "import os\n",
    "import moviepy.editor \n",
    "import tempfile\n",
    "import glob"
   ]
  },
  {
   "cell_type": "code",
   "execution_count": 3,
   "id": "83446809",
   "metadata": {},
   "outputs": [
    {
     "name": "stdout",
     "output_type": "stream",
     "text": [
      "C:\\Users\\Egemen\\Desktop\\C-Span Videos\\All Videos\\1993 Elaine Boosler.mp4\n",
      "MoviePy - Writing audio in C:\\Users\\Egemen\\Desktop\\C-Span Videos\\All Videos\\1993 Elaine Boosler.mp3\n"
     ]
    },
    {
     "name": "stderr",
     "output_type": "stream",
     "text": [
      "                                                                                                                       \r"
     ]
    },
    {
     "name": "stdout",
     "output_type": "stream",
     "text": [
      "MoviePy - Done.\n",
      "C:\\Users\\Egemen\\Desktop\\C-Span Videos\\All Videos\\1994 Al Franken.mp4\n",
      "MoviePy - Writing audio in C:\\Users\\Egemen\\Desktop\\C-Span Videos\\All Videos\\1994 Al Franken.mp3\n"
     ]
    },
    {
     "name": "stderr",
     "output_type": "stream",
     "text": [
      "                                                                                                                       \r"
     ]
    },
    {
     "name": "stdout",
     "output_type": "stream",
     "text": [
      "MoviePy - Done.\n",
      "C:\\Users\\Egemen\\Desktop\\C-Span Videos\\All Videos\\1995 Conan O'Brien.mp4\n",
      "MoviePy - Writing audio in C:\\Users\\Egemen\\Desktop\\C-Span Videos\\All Videos\\1995 Conan O'Brien.mp3\n"
     ]
    },
    {
     "name": "stderr",
     "output_type": "stream",
     "text": [
      "                                                                                                                       \r"
     ]
    },
    {
     "name": "stdout",
     "output_type": "stream",
     "text": [
      "MoviePy - Done.\n",
      "C:\\Users\\Egemen\\Desktop\\C-Span Videos\\All Videos\\1996 Al Franken.mp4\n",
      "MoviePy - Writing audio in C:\\Users\\Egemen\\Desktop\\C-Span Videos\\All Videos\\1996 Al Franken.mp3\n"
     ]
    },
    {
     "name": "stderr",
     "output_type": "stream",
     "text": [
      "                                                                                                                       \r"
     ]
    },
    {
     "name": "stdout",
     "output_type": "stream",
     "text": [
      "MoviePy - Done.\n",
      "C:\\Users\\Egemen\\Desktop\\C-Span Videos\\All Videos\\1997 Jon Stewart.mp4\n",
      "MoviePy - Writing audio in C:\\Users\\Egemen\\Desktop\\C-Span Videos\\All Videos\\1997 Jon Stewart.mp3\n"
     ]
    },
    {
     "name": "stderr",
     "output_type": "stream",
     "text": [
      "                                                                                                                       \r"
     ]
    },
    {
     "name": "stdout",
     "output_type": "stream",
     "text": [
      "MoviePy - Done.\n",
      "C:\\Users\\Egemen\\Desktop\\C-Span Videos\\All Videos\\1998 Ray Romano.mp4\n",
      "MoviePy - Writing audio in C:\\Users\\Egemen\\Desktop\\C-Span Videos\\All Videos\\1998 Ray Romano.mp3\n"
     ]
    },
    {
     "name": "stderr",
     "output_type": "stream",
     "text": [
      "                                                                                                                       \r"
     ]
    },
    {
     "name": "stdout",
     "output_type": "stream",
     "text": [
      "MoviePy - Done.\n",
      "C:\\Users\\Egemen\\Desktop\\C-Span Videos\\All Videos\\2000 Jay Leno.mp4\n",
      "MoviePy - Writing audio in C:\\Users\\Egemen\\Desktop\\C-Span Videos\\All Videos\\2000 Jay Leno.mp3\n"
     ]
    },
    {
     "name": "stderr",
     "output_type": "stream",
     "text": [
      "                                                                                                                       \r"
     ]
    },
    {
     "name": "stdout",
     "output_type": "stream",
     "text": [
      "MoviePy - Done.\n",
      "C:\\Users\\Egemen\\Desktop\\C-Span Videos\\All Videos\\2001 Darrell Hammond.mp4\n",
      "MoviePy - Writing audio in C:\\Users\\Egemen\\Desktop\\C-Span Videos\\All Videos\\2001 Darrell Hammond.mp3\n"
     ]
    },
    {
     "name": "stderr",
     "output_type": "stream",
     "text": [
      "                                                                                                                       \r"
     ]
    },
    {
     "name": "stdout",
     "output_type": "stream",
     "text": [
      "MoviePy - Done.\n",
      "C:\\Users\\Egemen\\Desktop\\C-Span Videos\\All Videos\\2002 Drew Carey.mp4\n",
      "MoviePy - Writing audio in C:\\Users\\Egemen\\Desktop\\C-Span Videos\\All Videos\\2002 Drew Carey.mp3\n"
     ]
    },
    {
     "name": "stderr",
     "output_type": "stream",
     "text": [
      "                                                                                                                       \r"
     ]
    },
    {
     "name": "stdout",
     "output_type": "stream",
     "text": [
      "MoviePy - Done.\n",
      "C:\\Users\\Egemen\\Desktop\\C-Span Videos\\All Videos\\2004 Jay Leno.mp4\n",
      "MoviePy - Writing audio in C:\\Users\\Egemen\\Desktop\\C-Span Videos\\All Videos\\2004 Jay Leno.mp3\n"
     ]
    },
    {
     "name": "stderr",
     "output_type": "stream",
     "text": [
      "                                                                                                                       \r"
     ]
    },
    {
     "name": "stdout",
     "output_type": "stream",
     "text": [
      "MoviePy - Done.\n",
      "C:\\Users\\Egemen\\Desktop\\C-Span Videos\\All Videos\\2005 Cedric.mp4\n",
      "MoviePy - Writing audio in C:\\Users\\Egemen\\Desktop\\C-Span Videos\\All Videos\\2005 Cedric.mp3\n"
     ]
    },
    {
     "name": "stderr",
     "output_type": "stream",
     "text": [
      "                                                                                                                       \r"
     ]
    },
    {
     "name": "stdout",
     "output_type": "stream",
     "text": [
      "MoviePy - Done.\n",
      "C:\\Users\\Egemen\\Desktop\\C-Span Videos\\All Videos\\2006 Steven Colbert.mp4\n",
      "MoviePy - Writing audio in C:\\Users\\Egemen\\Desktop\\C-Span Videos\\All Videos\\2006 Steven Colbert.mp3\n"
     ]
    },
    {
     "name": "stderr",
     "output_type": "stream",
     "text": [
      "                                                                                                                       \r"
     ]
    },
    {
     "name": "stdout",
     "output_type": "stream",
     "text": [
      "MoviePy - Done.\n",
      "C:\\Users\\Egemen\\Desktop\\C-Span Videos\\All Videos\\2007 Rich Little.mp4\n",
      "MoviePy - Writing audio in C:\\Users\\Egemen\\Desktop\\C-Span Videos\\All Videos\\2007 Rich Little.mp3\n"
     ]
    },
    {
     "name": "stderr",
     "output_type": "stream",
     "text": [
      "                                                                                                                       \r"
     ]
    },
    {
     "name": "stdout",
     "output_type": "stream",
     "text": [
      "MoviePy - Done.\n",
      "C:\\Users\\Egemen\\Desktop\\C-Span Videos\\All Videos\\2008 Craig Ferguson.mp4\n",
      "MoviePy - Writing audio in C:\\Users\\Egemen\\Desktop\\C-Span Videos\\All Videos\\2008 Craig Ferguson.mp3\n"
     ]
    },
    {
     "name": "stderr",
     "output_type": "stream",
     "text": [
      "                                                                                                                       \r"
     ]
    },
    {
     "name": "stdout",
     "output_type": "stream",
     "text": [
      "MoviePy - Done.\n",
      "C:\\Users\\Egemen\\Desktop\\C-Span Videos\\All Videos\\2009 Wanda Sykes.mp4\n",
      "MoviePy - Writing audio in C:\\Users\\Egemen\\Desktop\\C-Span Videos\\All Videos\\2009 Wanda Sykes.mp3\n"
     ]
    },
    {
     "name": "stderr",
     "output_type": "stream",
     "text": [
      "                                                                                                                       \r"
     ]
    },
    {
     "name": "stdout",
     "output_type": "stream",
     "text": [
      "MoviePy - Done.\n",
      "C:\\Users\\Egemen\\Desktop\\C-Span Videos\\All Videos\\2010 Jay Leno.mp4\n",
      "MoviePy - Writing audio in C:\\Users\\Egemen\\Desktop\\C-Span Videos\\All Videos\\2010 Jay Leno.mp3\n"
     ]
    },
    {
     "name": "stderr",
     "output_type": "stream",
     "text": [
      "                                                                                                                       \r"
     ]
    },
    {
     "name": "stdout",
     "output_type": "stream",
     "text": [
      "MoviePy - Done.\n",
      "C:\\Users\\Egemen\\Desktop\\C-Span Videos\\All Videos\\2011 Seth Meyers.mp4\n",
      "MoviePy - Writing audio in C:\\Users\\Egemen\\Desktop\\C-Span Videos\\All Videos\\2011 Seth Meyers.mp3\n"
     ]
    },
    {
     "name": "stderr",
     "output_type": "stream",
     "text": [
      "                                                                                                                       \r"
     ]
    },
    {
     "name": "stdout",
     "output_type": "stream",
     "text": [
      "MoviePy - Done.\n",
      "C:\\Users\\Egemen\\Desktop\\C-Span Videos\\All Videos\\2012 Jimmy Kimmell.mp4\n",
      "MoviePy - Writing audio in C:\\Users\\Egemen\\Desktop\\C-Span Videos\\All Videos\\2012 Jimmy Kimmell.mp3\n"
     ]
    },
    {
     "name": "stderr",
     "output_type": "stream",
     "text": [
      "                                                                                                                       \r"
     ]
    },
    {
     "name": "stdout",
     "output_type": "stream",
     "text": [
      "MoviePy - Done.\n",
      "C:\\Users\\Egemen\\Desktop\\C-Span Videos\\All Videos\\2013 Conan O'Brien.mp4\n",
      "MoviePy - Writing audio in C:\\Users\\Egemen\\Desktop\\C-Span Videos\\All Videos\\2013 Conan O'Brien.mp3\n"
     ]
    },
    {
     "name": "stderr",
     "output_type": "stream",
     "text": [
      "                                                                                                                       \r"
     ]
    },
    {
     "name": "stdout",
     "output_type": "stream",
     "text": [
      "MoviePy - Done.\n",
      "C:\\Users\\Egemen\\Desktop\\C-Span Videos\\All Videos\\2014 Joel McHale.mp4\n",
      "MoviePy - Writing audio in C:\\Users\\Egemen\\Desktop\\C-Span Videos\\All Videos\\2014 Joel McHale.mp3\n"
     ]
    },
    {
     "name": "stderr",
     "output_type": "stream",
     "text": [
      "                                                                                                                       \r"
     ]
    },
    {
     "name": "stdout",
     "output_type": "stream",
     "text": [
      "MoviePy - Done.\n",
      "C:\\Users\\Egemen\\Desktop\\C-Span Videos\\All Videos\\2015 Cecily Strong.mp4\n",
      "MoviePy - Writing audio in C:\\Users\\Egemen\\Desktop\\C-Span Videos\\All Videos\\2015 Cecily Strong.mp3\n"
     ]
    },
    {
     "name": "stderr",
     "output_type": "stream",
     "text": [
      "                                                                                                                       \r"
     ]
    },
    {
     "name": "stdout",
     "output_type": "stream",
     "text": [
      "MoviePy - Done.\n",
      "C:\\Users\\Egemen\\Desktop\\C-Span Videos\\All Videos\\2016 Larry Wilmore.mp4\n",
      "MoviePy - Writing audio in C:\\Users\\Egemen\\Desktop\\C-Span Videos\\All Videos\\2016 Larry Wilmore.mp3\n"
     ]
    },
    {
     "name": "stderr",
     "output_type": "stream",
     "text": [
      "                                                                                                                       \r"
     ]
    },
    {
     "name": "stdout",
     "output_type": "stream",
     "text": [
      "MoviePy - Done.\n",
      "C:\\Users\\Egemen\\Desktop\\C-Span Videos\\All Videos\\2017 Hasan Minhaj.mp4\n",
      "MoviePy - Writing audio in C:\\Users\\Egemen\\Desktop\\C-Span Videos\\All Videos\\2017 Hasan Minhaj.mp3\n"
     ]
    },
    {
     "name": "stderr",
     "output_type": "stream",
     "text": [
      "                                                                                                                       \r"
     ]
    },
    {
     "name": "stdout",
     "output_type": "stream",
     "text": [
      "MoviePy - Done.\n",
      "C:\\Users\\Egemen\\Desktop\\C-Span Videos\\All Videos\\2018 Michelle Wolf.mp4\n",
      "MoviePy - Writing audio in C:\\Users\\Egemen\\Desktop\\C-Span Videos\\All Videos\\2018 Michelle Wolf.mp3\n"
     ]
    },
    {
     "name": "stderr",
     "output_type": "stream",
     "text": [
      "                                                                                                                       \r"
     ]
    },
    {
     "name": "stdout",
     "output_type": "stream",
     "text": [
      "MoviePy - Done.\n",
      "C:\\Users\\Egemen\\Desktop\\C-Span Videos\\All Videos\\2019 Ron Chernow.mp4\n",
      "MoviePy - Writing audio in C:\\Users\\Egemen\\Desktop\\C-Span Videos\\All Videos\\2019 Ron Chernow.mp3\n"
     ]
    },
    {
     "name": "stderr",
     "output_type": "stream",
     "text": [
      "                                                                                                                       \r"
     ]
    },
    {
     "name": "stdout",
     "output_type": "stream",
     "text": [
      "MoviePy - Done.\n",
      "C:\\Users\\Egemen\\Desktop\\C-Span Videos\\All Videos\\2022 Trevor Noah.mp4\n",
      "MoviePy - Writing audio in C:\\Users\\Egemen\\Desktop\\C-Span Videos\\All Videos\\2022 Trevor Noah.mp3\n"
     ]
    },
    {
     "name": "stderr",
     "output_type": "stream",
     "text": [
      "                                                                                                                       \r"
     ]
    },
    {
     "name": "stdout",
     "output_type": "stream",
     "text": [
      "MoviePy - Done.\n",
      "C:\\Users\\Egemen\\Desktop\\C-Span Videos\\All Videos\\2023 Roy Wood.mp4\n",
      "MoviePy - Writing audio in C:\\Users\\Egemen\\Desktop\\C-Span Videos\\All Videos\\2023 Roy Wood.mp3\n"
     ]
    },
    {
     "name": "stderr",
     "output_type": "stream",
     "text": [
      "                                                                                                                       "
     ]
    },
    {
     "name": "stdout",
     "output_type": "stream",
     "text": [
      "MoviePy - Done.\n",
      "Finished conversion\n"
     ]
    },
    {
     "name": "stderr",
     "output_type": "stream",
     "text": [
      "\r"
     ]
    }
   ],
   "source": [
    "pathdir = \"WRITE YOUR PATH DIRECTION HERE\"\n",
    "\n",
    "# Get a list of all the files with .mp4 extension in path folder.\n",
    "mp4_filenames_list = glob.glob(os.path.join(pathdir, \"*.mp4\"))\n",
    "\n",
    "for filename in mp4_filenames_list:\n",
    "    print(filename)\n",
    "        \n",
    "    video = moviepy.editor.VideoFileClip(filename)\n",
    "    audio = video.audio\n",
    "\n",
    "    # To Audio\n",
    "    if audio is not None:\n",
    "        wav_file_name = filename.replace('.mp4', '.mp3')  # Replace .mp4 with .mp3\n",
    "        audio.write_audiofile(wav_file_name)\n",
    "else:\n",
    "    print(\"Finished conversion\")"
   ]
  }
 ],
 "metadata": {
  "kernelspec": {
   "display_name": "Python 3 (ipykernel)",
   "language": "python",
   "name": "python3"
  },
  "language_info": {
   "codemirror_mode": {
    "name": "ipython",
    "version": 3
   },
   "file_extension": ".py",
   "mimetype": "text/x-python",
   "name": "python",
   "nbconvert_exporter": "python",
   "pygments_lexer": "ipython3",
   "version": "3.9.7"
  }
 },
 "nbformat": 4,
 "nbformat_minor": 5
}
